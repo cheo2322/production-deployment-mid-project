{
 "cells": [
  {
   "cell_type": "code",
   "execution_count": 3,
   "metadata": {},
   "outputs": [],
   "source": [
    "import pandas as pd"
   ]
  },
  {
   "cell_type": "code",
   "execution_count": 6,
   "metadata": {},
   "outputs": [],
   "source": [
    "movies = pd.read_csv('../data/movie.csv')\n",
    "ratings = pd.read_csv('../data/rating.csv')"
   ]
  },
  {
   "cell_type": "code",
   "execution_count": 7,
   "metadata": {},
   "outputs": [],
   "source": [
    "popular_movies = ratings.groupby('movieId')['rating'].mean().sort_values(ascending=False)"
   ]
  },
  {
   "cell_type": "code",
   "execution_count": 9,
   "metadata": {},
   "outputs": [],
   "source": [
    "movies_with_ratings = movies.set_index('movieId').join(popular_movies, how='inner')"
   ]
  },
  {
   "cell_type": "code",
   "execution_count": 10,
   "metadata": {},
   "outputs": [
    {
     "name": "stdout",
     "output_type": "stream",
     "text": [
      "                                                     title  \\\n",
      "movieId                                                      \n",
      "54326                                    Sierra, La (2005)   \n",
      "26718        Life On A String (Bian chang Bian Zou) (1991)   \n",
      "105846                                Only Daughter (2013)   \n",
      "81117                               Moth, The (Cma) (1980)   \n",
      "130996                          The Beautiful Story (1992)   \n",
      "105841                                       B-Side (2013)   \n",
      "129478                           A Blank on the Map (1971)   \n",
      "129530                            Slingshot Hip Hop (2008)   \n",
      "129526                            The Color of Milk (2004)   \n",
      "103871   Consuming Kids: The Commercialization of Child...   \n",
      "99243                                Parasites, Les (1999)   \n",
      "126219                                    Marihuana (1936)   \n",
      "104317     Flight of the Conchords: A Texan Odyssey (2006)   \n",
      "106517                      De la servitude moderne (2009)   \n",
      "103875                      Iran Is Not the Problem (2008)   \n",
      "89133                                 Boys (Drenge) (1977)   \n",
      "116106     Death of a Nation - The Timor Conspiracy (1994)   \n",
      "126397                                The Encounter (2010)   \n",
      "72235       Between the Devil and the Deep Blue Sea (1995)   \n",
      "129293                                     Bandaged (2009)   \n",
      "\n",
      "                                  genres  rating  \n",
      "movieId                                           \n",
      "54326                        Documentary     5.0  \n",
      "26718    Adventure|Drama|Fantasy|Musical     5.0  \n",
      "105846                             Drama     5.0  \n",
      "81117                              Drama     5.0  \n",
      "130996           Adventure|Drama|Fantasy     5.0  \n",
      "105841                    Comedy|Romance     5.0  \n",
      "129478                       Documentary     5.0  \n",
      "129530                (no genres listed)     5.0  \n",
      "129526                      Comedy|Drama     5.0  \n",
      "103871                       Documentary     5.0  \n",
      "99243                             Comedy     5.0  \n",
      "126219                 Documentary|Drama     5.0  \n",
      "104317                            Comedy     5.0  \n",
      "106517                       Documentary     5.0  \n",
      "103875                       Documentary     5.0  \n",
      "89133                              Drama     5.0  \n",
      "116106                       Documentary     5.0  \n",
      "126397                    Children|Drama     5.0  \n",
      "72235                              Drama     5.0  \n",
      "129293                          Thriller     5.0  \n"
     ]
    }
   ],
   "source": [
    "result = movies_with_ratings.sort_values(by='rating', ascending=False)\n",
    "print(result.head(20))"
   ]
  }
 ],
 "metadata": {
  "kernelspec": {
   "display_name": ".venv",
   "language": "python",
   "name": "python3"
  },
  "language_info": {
   "codemirror_mode": {
    "name": "ipython",
    "version": 3
   },
   "file_extension": ".py",
   "mimetype": "text/x-python",
   "name": "python",
   "nbconvert_exporter": "python",
   "pygments_lexer": "ipython3",
   "version": "3.10.11"
  }
 },
 "nbformat": 4,
 "nbformat_minor": 2
}
